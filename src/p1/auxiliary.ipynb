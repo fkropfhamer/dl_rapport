{
 "cells": [
  {
   "cell_type": "code",
   "execution_count": 125,
   "id": "e5dd4168",
   "metadata": {},
   "outputs": [],
   "source": [
    "import torch\n",
    "import torch.nn as nn\n",
    "import torch.nn.functional as F\n",
    "import torch.optim as optim"
   ]
  },
  {
   "cell_type": "code",
   "execution_count": 126,
   "id": "1133b7f6",
   "metadata": {},
   "outputs": [],
   "source": [
    "class Auxiliary(nn.Module):\n",
    "    def __init__(self):\n",
    "        super().__init__()\n",
    "        \n",
    "        kernel_size = 3\n",
    "        out_channels1 = 32\n",
    "        in_channels1 = 1\n",
    "        out_channels2 = 64\n",
    "        in_channels2 = 32\n",
    "        \n",
    "        self.pool = nn.MaxPool2d(2, 2)\n",
    "        \n",
    "        self.conv1_1 = nn.Conv2d(in_channels1, out_channels1, kernel_size)\n",
    "        self.conv1_2 = nn.Conv2d(in_channels2, out_channels2, kernel_size)\n",
    "        \n",
    "        self.conv2_1 = nn.Conv2d(in_channels1, out_channels1, kernel_size)\n",
    "        self.conv2_2 = nn.Conv2d(in_channels2, out_channels2, kernel_size)\n",
    "        \n",
    "        in_features1 = 256\n",
    "        out_features1 = 120\n",
    "        out_features2 = 10\n",
    "        \n",
    "        self.fc1_1 = nn.Linear(in_features1, out_features1)\n",
    "        self.fc1_2 = nn.Linear(out_features1, out_features2)\n",
    "\n",
    "        self.fc2_1 = nn.Linear(in_features1, out_features1)\n",
    "        self.fc2_2 = nn.Linear(out_features1, out_features2)\n",
    "\n",
    "        \n",
    "        self.fc3 = nn.Linear(2 * out_features2, 1)\n",
    "        \n",
    "    def forward(self, x):\n",
    "        x1 = x[:,:1,:]\n",
    "        x2 = x[:,1:2,:]\n",
    "        \n",
    "        x1 = self.pool(F.relu(self.conv1_1(x1)))\n",
    "        x1 = self.pool(F.relu(self.conv1_2(x1)))\n",
    "        x1 = torch.flatten(x1, 1)\n",
    "        x1 = F.relu(self.fc1_1(x1))\n",
    "        x1 = F.relu(self.fc1_2(x1))\n",
    "        \n",
    "        x2 = self.pool(F.relu(self.conv2_1(x2)))\n",
    "        x2 = self.pool(F.relu(self.conv2_2(x2)))\n",
    "        x2 = torch.flatten(x2, 1)\n",
    "        x2 = F.relu(self.fc2_1(x2))\n",
    "        x2 = F.relu(self.fc2_2(x2))\n",
    "        \n",
    "        x = self.fc3(torch.cat((x1, x2), dim=1))\n",
    "        \n",
    "        return x, x1, x2"
   ]
  },
  {
   "cell_type": "code",
   "execution_count": null,
   "id": "5ce7e0f3",
   "metadata": {},
   "outputs": [],
   "source": []
  },
  {
   "cell_type": "code",
   "execution_count": 127,
   "id": "920497dd",
   "metadata": {},
   "outputs": [],
   "source": [
    "model = Auxiliary()"
   ]
  },
  {
   "cell_type": "code",
   "execution_count": 128,
   "id": "13eb6848",
   "metadata": {},
   "outputs": [],
   "source": [
    "from dataloading import load_data\n",
    "\n",
    "trainloader, testloader = load_data()"
   ]
  },
  {
   "cell_type": "code",
   "execution_count": 129,
   "id": "ec373518",
   "metadata": {},
   "outputs": [],
   "source": [
    "learning_rate = .001\n",
    "\n",
    "criterion = nn.BCEWithLogitsLoss()\n",
    "class_criterion = nn.CrossEntropyLoss()\n",
    "optimizer = optim.SGD(model.parameters(), lr=learning_rate)\n",
    "#optimizer = optim.Adam(model.parameters(), lr=learning_rate)\n"
   ]
  },
  {
   "cell_type": "code",
   "execution_count": 132,
   "id": "d38bdd8b",
   "metadata": {},
   "outputs": [
    {
     "name": "stdout",
     "output_type": "stream",
     "text": [
      "epoch: 0, loss: 0.6235746145248413\n",
      "epoch: 1, loss: 0.6248899102210999\n",
      "epoch: 2, loss: 0.6175503134727478\n",
      "epoch: 3, loss: 0.6174079179763794\n",
      "epoch: 4, loss: 0.6148945093154907\n",
      "epoch: 5, loss: 0.6070784330368042\n",
      "epoch: 6, loss: 0.6035206317901611\n",
      "epoch: 7, loss: 0.6073626279830933\n",
      "epoch: 8, loss: 0.5984597206115723\n",
      "epoch: 9, loss: 0.5994621515274048\n",
      "epoch: 10, loss: 0.5949071049690247\n",
      "epoch: 11, loss: 0.5884535908699036\n",
      "epoch: 12, loss: 0.5888424515724182\n",
      "epoch: 13, loss: 0.5880634784698486\n",
      "epoch: 14, loss: 0.5843179821968079\n",
      "epoch: 15, loss: 0.5839698314666748\n",
      "epoch: 16, loss: 0.580315887928009\n",
      "epoch: 17, loss: 0.5808995962142944\n",
      "epoch: 18, loss: 0.5784263610839844\n",
      "epoch: 19, loss: 0.5759315490722656\n",
      "epoch: 20, loss: 0.5730262994766235\n",
      "epoch: 21, loss: 0.578160285949707\n",
      "epoch: 22, loss: 0.5752938389778137\n",
      "epoch: 23, loss: 0.5673414468765259\n",
      "epoch: 24, loss: 0.5658857226371765\n",
      "epoch: 25, loss: 0.5645912885665894\n",
      "epoch: 26, loss: 0.5601229071617126\n",
      "epoch: 27, loss: 0.5627739429473877\n",
      "epoch: 28, loss: 0.5593740344047546\n",
      "epoch: 29, loss: 0.5593661665916443\n"
     ]
    }
   ],
   "source": [
    "epochs = 30\n",
    "\n",
    "losses = []\n",
    "\n",
    "for epoch in range(epochs):\n",
    "    running_loss = 0.0\n",
    "    epoch_losses = []\n",
    "    \n",
    "    for i, data in enumerate(trainloader, 0):\n",
    "        inputs, target, classes = data\n",
    "        \n",
    "        outputs, x1, x2 = model(inputs)\n",
    "        outputs = outputs.squeeze()\n",
    "        \n",
    "        loss = criterion(outputs, target.float())\n",
    "        \n",
    "        epoch_losses.append(loss.item())\n",
    "        \n",
    "        class_loss1 = class_criterion(x1, classes[:,0])\n",
    "        class_loss2 = class_criterion(x2, classes[:,1])\n",
    "        \n",
    "        loss += class_loss1 + class_loss2\n",
    "        \n",
    "        optimizer.zero_grad()\n",
    "        loss.backward()\n",
    "        optimizer.step()\n",
    "        \n",
    "        running_loss += loss.item()\n",
    "        \n",
    "        \n",
    "    \n",
    "    epoch_loss = torch.mean(torch.tensor(epoch_losses))\n",
    "    print(f'epoch: {epoch}, loss: {epoch_loss}')\n",
    "    losses.append(epoch_loss)  "
   ]
  },
  {
   "cell_type": "code",
   "execution_count": 131,
   "id": "926b59e9",
   "metadata": {},
   "outputs": [
    {
     "name": "stdout",
     "output_type": "stream",
     "text": [
      "Accuracy: 0.5559999942779541\n"
     ]
    }
   ],
   "source": [
    "from evaluate import evaluate_model\n",
    "\n",
    "def model_fn(x):\n",
    "    outputs, _, _ = model(x)\n",
    "    \n",
    "    return outputs\n",
    "    \n",
    "\n",
    "evaluate_model(model_fn, testloader)"
   ]
  }
 ],
 "metadata": {
  "kernelspec": {
   "display_name": "Python 3 (ipykernel)",
   "language": "python",
   "name": "python3"
  },
  "language_info": {
   "codemirror_mode": {
    "name": "ipython",
    "version": 3
   },
   "file_extension": ".py",
   "mimetype": "text/x-python",
   "name": "python",
   "nbconvert_exporter": "python",
   "pygments_lexer": "ipython3",
   "version": "3.9.16"
  }
 },
 "nbformat": 4,
 "nbformat_minor": 5
}
