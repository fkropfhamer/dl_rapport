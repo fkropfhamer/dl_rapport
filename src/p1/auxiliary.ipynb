{
 "cells": [
  {
   "cell_type": "code",
   "execution_count": 76,
   "id": "8c64a953",
   "metadata": {},
   "outputs": [],
   "source": [
    "import torch\n",
    "import torch.nn as nn\n",
    "import torch.nn.functional as F\n",
    "import torch.optim as optim"
   ]
  },
  {
   "cell_type": "code",
   "execution_count": 77,
   "id": "ac80bebd",
   "metadata": {},
   "outputs": [],
   "source": [
    "class Auxiliary(nn.Module):\n",
    "    def __init__(self):\n",
    "        super().__init__()\n",
    "        \n",
    "        kernel_size = 4\n",
    "        out_channels1 = 6\n",
    "        in_channels1 = 1\n",
    "        out_channels2 = 16\n",
    "        in_channels2 = 6\n",
    "        \n",
    "        self.pool = nn.MaxPool2d(2, 2)\n",
    "        \n",
    "        self.conv1_1 = nn.Conv2d(in_channels1, out_channels1, kernel_size)\n",
    "        self.conv1_2 = nn.Conv2d(in_channels2, out_channels2, kernel_size)\n",
    "        \n",
    "        self.conv2_1 = nn.Conv2d(in_channels1, out_channels1, kernel_size)\n",
    "        self.conv2_2 = nn.Conv2d(in_channels2, out_channels2, kernel_size)\n",
    "        \n",
    "        in_features1 = 16\n",
    "        out_features1 = 120\n",
    "        out_features2 = 10\n",
    "        \n",
    "        self.fc1_1 = nn.Linear(in_features1, out_features1)\n",
    "        self.fc1_2 = nn.Linear(out_features1, out_features2)\n",
    "\n",
    "        self.fc2_1 = nn.Linear(in_features1, out_features1)\n",
    "        self.fc2_2 = nn.Linear(out_features1, out_features2)\n",
    "\n",
    "        \n",
    "        self.fc3 = nn.Linear(2 * out_features2, 1)\n",
    "        \n",
    "    def forward(self, x):\n",
    "        x1 = x[:,:1,:]\n",
    "        x2 = x[:,1:2,:]\n",
    "        \n",
    "        x1 = self.pool(F.relu(self.conv1_1(x1)))\n",
    "        x1 = self.pool(F.relu(self.conv1_2(x1)))\n",
    "        x1 = torch.flatten(x1, 1)\n",
    "        x1 = F.relu(self.fc1_1(x1))\n",
    "        x1 = F.relu(self.fc1_2(x1))\n",
    "        \n",
    "        x2 = self.pool(F.relu(self.conv2_1(x2)))\n",
    "        x2 = self.pool(F.relu(self.conv2_2(x2)))\n",
    "        x2 = torch.flatten(x2, 1)\n",
    "        x2 = F.relu(self.fc2_1(x2))\n",
    "        x2 = F.relu(self.fc2_2(x2))\n",
    "        \n",
    "        x = self.fc3(torch.cat((x1, x2), dim=1))\n",
    "        \n",
    "        return x, x1, x2"
   ]
  },
  {
   "cell_type": "code",
   "execution_count": null,
   "id": "18975e2d",
   "metadata": {},
   "outputs": [],
   "source": []
  },
  {
   "cell_type": "code",
   "execution_count": 78,
   "id": "85884014",
   "metadata": {},
   "outputs": [],
   "source": [
    "model = Auxiliary()"
   ]
  },
  {
   "cell_type": "code",
   "execution_count": 79,
   "id": "62fc29f4",
   "metadata": {},
   "outputs": [],
   "source": [
    "from dataloading import load_data\n",
    "\n",
    "trainloader, testloader = load_data()"
   ]
  },
  {
   "cell_type": "code",
   "execution_count": 80,
   "id": "3586ac3c",
   "metadata": {},
   "outputs": [],
   "source": [
    "learning_rate = .001\n",
    "\n",
    "criterion = nn.BCEWithLogitsLoss()\n",
    "class_criterion = nn.CrossEntropyLoss()\n",
    "optimizer = optim.SGD(model.parameters(), lr=0.001, momentum=0.9)\n",
    "#optimizer = optim.Adam(model.parameters(), lr=learning_rate)\n"
   ]
  },
  {
   "cell_type": "code",
   "execution_count": 81,
   "id": "9824a0c8",
   "metadata": {},
   "outputs": [
    {
     "name": "stdout",
     "output_type": "stream",
     "text": [
      "epoch: 0, loss: 5.936705589294434\n",
      "epoch: 1, loss: 5.288024425506592\n",
      "epoch: 2, loss: 5.293978214263916\n",
      "epoch: 3, loss: 5.293136119842529\n",
      "epoch: 4, loss: 5.292878150939941\n",
      "epoch: 5, loss: 5.292753219604492\n",
      "epoch: 6, loss: 5.292789936065674\n",
      "epoch: 7, loss: 5.292542457580566\n",
      "epoch: 8, loss: 5.291450023651123\n",
      "epoch: 9, loss: 5.291220188140869\n",
      "epoch: 10, loss: 5.291980266571045\n",
      "epoch: 11, loss: 5.2918381690979\n",
      "epoch: 12, loss: 5.290717124938965\n",
      "epoch: 13, loss: 5.291734218597412\n",
      "epoch: 14, loss: 5.2904839515686035\n",
      "epoch: 15, loss: 5.290371417999268\n",
      "epoch: 16, loss: 5.2902913093566895\n",
      "epoch: 17, loss: 5.290802478790283\n",
      "epoch: 18, loss: 5.290775299072266\n",
      "epoch: 19, loss: 5.290101051330566\n"
     ]
    }
   ],
   "source": [
    "epochs = 20\n",
    "\n",
    "losses = []\n",
    "\n",
    "for epoch in range(epochs):\n",
    "    running_loss = 0.0\n",
    "    epoch_losses = []\n",
    "    \n",
    "    for i, data in enumerate(trainloader, 0):\n",
    "        inputs, target, classes = data\n",
    "        \n",
    "        optimizer.zero_grad()\n",
    "        \n",
    "        outputs, x1, x2 = model(inputs)\n",
    "        outputs = outputs.squeeze()\n",
    "        \n",
    "        loss = criterion(outputs, target.float())\n",
    "        \n",
    "        class_loss1 = class_criterion(x1, classes[:,0])\n",
    "        class_loss2 = class_criterion(x2, classes[:,1])\n",
    "        \n",
    "        loss += class_loss1 + class_loss2\n",
    "        \n",
    "        optimizer.zero_grad()\n",
    "        loss.backward()\n",
    "        optimizer.step()\n",
    "        \n",
    "        running_loss += loss.item()\n",
    "        \n",
    "        epoch_losses.append(loss.item())\n",
    "    \n",
    "    epoch_loss = torch.mean(torch.tensor(epoch_losses))\n",
    "    print(f'epoch: {epoch}, loss: {epoch_loss}')\n",
    "    losses.append(epoch_loss)  "
   ]
  },
  {
   "cell_type": "code",
   "execution_count": 82,
   "id": "a572fa52",
   "metadata": {},
   "outputs": [
    {
     "name": "stdout",
     "output_type": "stream",
     "text": [
      "Accuracy: 0.5529999732971191\n"
     ]
    }
   ],
   "source": [
    "from evaluate import evaluate_model\n",
    "\n",
    "def model_fn(x):\n",
    "    outputs, _, _ = model(x)\n",
    "    \n",
    "    return outputs\n",
    "    \n",
    "\n",
    "evaluate_model(model_fn, testloader)"
   ]
  }
 ],
 "metadata": {
  "kernelspec": {
   "display_name": "Python 3 (ipykernel)",
   "language": "python",
   "name": "python3"
  },
  "language_info": {
   "codemirror_mode": {
    "name": "ipython",
    "version": 3
   },
   "file_extension": ".py",
   "mimetype": "text/x-python",
   "name": "python",
   "nbconvert_exporter": "python",
   "pygments_lexer": "ipython3",
   "version": "3.9.16"
  }
 },
 "nbformat": 4,
 "nbformat_minor": 5
}
