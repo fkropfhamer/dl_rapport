{
 "cells": [
  {
   "cell_type": "code",
   "execution_count": 97,
   "id": "28458a92",
   "metadata": {},
   "outputs": [],
   "source": [
    "import torch\n",
    "import torch.nn as nn\n",
    "import torch.nn.functional as F\n",
    "import torch.optim as optim"
   ]
  },
  {
   "cell_type": "code",
   "execution_count": 98,
   "id": "106c2d09",
   "metadata": {},
   "outputs": [],
   "source": [
    "device = torch.device('mps') if torch.backends.mps.is_available() else torch.device('cpu') "
   ]
  },
  {
   "cell_type": "code",
   "execution_count": 99,
   "id": "dbdb836f",
   "metadata": {},
   "outputs": [],
   "source": [
    "class BaseLine(nn.Module):\n",
    "    def __init__(self):\n",
    "        super(BaseLine, self).__init__()\n",
    "        \n",
    "        self.fc1 = nn.Linear(392, 120)\n",
    "        self.fc2 = nn.Linear(120, 84)\n",
    "        self.fc3 = nn.Linear(84, 1)\n",
    "        \n",
    "    def forward(self, x):\n",
    "        x = torch.flatten(x, start_dim=1)\n",
    "        x = F.relu(self.fc1(x))\n",
    "        x = F.relu(self.fc2(x))\n",
    "        x = self.fc3(x)\n",
    "        \n",
    "        return x"
   ]
  },
  {
   "cell_type": "code",
   "execution_count": 100,
   "id": "d3ad3a7b",
   "metadata": {},
   "outputs": [],
   "source": [
    "baseLine = BaseLine()"
   ]
  },
  {
   "cell_type": "code",
   "execution_count": 101,
   "id": "7478b5be",
   "metadata": {},
   "outputs": [],
   "source": [
    "from dlc_practical_prologue import generate_pair_sets"
   ]
  },
  {
   "cell_type": "code",
   "execution_count": 102,
   "id": "fe59423f",
   "metadata": {},
   "outputs": [],
   "source": [
    "train_input, train_target, train_classes, test_input, test_target, test_classes = generate_pair_sets(1000)"
   ]
  },
  {
   "cell_type": "code",
   "execution_count": 110,
   "id": "dbb24503",
   "metadata": {},
   "outputs": [],
   "source": [
    "batch_size = 32\n",
    "\n",
    "trainset = torch.utils.data.TensorDataset(train_input, train_target, train_classes)\n",
    "trainloader = torch.utils.data.DataLoader(trainset, batch_size=batch_size, shuffle=True, num_workers=2)\n",
    "\n",
    "testset = torch.utils.data.TensorDataset(test_input, test_target, test_classes)\n",
    "testloader = torch.utils.data.DataLoader(trainset, batch_size=batch_size, shuffle=False, num_workers=2)"
   ]
  },
  {
   "cell_type": "code",
   "execution_count": 104,
   "id": "d1b8d0f7",
   "metadata": {},
   "outputs": [],
   "source": [
    "criterion = nn.BCEWithLogitsLoss()\n",
    "optimizer = optim.SGD(baseline.parameters(), lr=0.001, momentum=0.9)"
   ]
  },
  {
   "cell_type": "code",
   "execution_count": 113,
   "id": "d7f85fdb",
   "metadata": {},
   "outputs": [],
   "source": [
    "epochs = 20"
   ]
  },
  {
   "cell_type": "code",
   "execution_count": 115,
   "id": "a1d7d0e1",
   "metadata": {},
   "outputs": [
    {
     "name": "stdout",
     "output_type": "stream",
     "text": [
      "epoch: 0, loss: 2.3640100955963135\n",
      "epoch: 1, loss: 2.313304901123047\n",
      "epoch: 2, loss: 2.3007967472076416\n",
      "epoch: 3, loss: 2.3176662921905518\n",
      "epoch: 4, loss: 2.3303298950195312\n",
      "epoch: 5, loss: 2.2992441654205322\n",
      "epoch: 6, loss: 2.340909957885742\n",
      "epoch: 7, loss: 2.3045778274536133\n",
      "epoch: 8, loss: 2.3672242164611816\n",
      "epoch: 9, loss: 2.31997013092041\n",
      "epoch: 10, loss: 2.329522132873535\n",
      "epoch: 11, loss: 2.3496270179748535\n",
      "epoch: 12, loss: 2.3083980083465576\n",
      "epoch: 13, loss: 2.325230360031128\n",
      "epoch: 14, loss: 2.315294027328491\n",
      "epoch: 15, loss: 2.304314374923706\n",
      "epoch: 16, loss: 2.338766098022461\n",
      "epoch: 17, loss: 2.3266441822052\n",
      "epoch: 18, loss: 2.369011878967285\n",
      "epoch: 19, loss: 2.324741840362549\n"
     ]
    }
   ],
   "source": [
    "losses = []\n",
    "\n",
    "for epoch in range(epochs):\n",
    "    running_loss = 0.0\n",
    "    epoch_losses = []\n",
    "    \n",
    "    for i, data in enumerate(trainloader, 0):\n",
    "        inputs, target, classes = data\n",
    "        \n",
    "        optimizer.zero_grad()\n",
    "        \n",
    "        outputs = baseLine(inputs)\n",
    "        outputs = outputs.squeeze()\n",
    "        \n",
    "        loss = criterion(outputs, target.float())\n",
    "        loss.backward()\n",
    "        optimizer.step()\n",
    "        \n",
    "        running_loss += loss.item()\n",
    "        \n",
    "        epoch_losses.append(loss.item())\n",
    "    \n",
    "    epoch_loss = torch.mean(torch.tensor(epoch_losses))\n",
    "    print(f'epoch: {epoch}, loss: {epoch_loss}')\n",
    "    losses.append(epoch_loss)  "
   ]
  },
  {
   "cell_type": "code",
   "execution_count": 133,
   "id": "58c520d5",
   "metadata": {},
   "outputs": [
    {
     "name": "stdout",
     "output_type": "stream",
     "text": [
      "Accuracy: 0.4779999852180481\n"
     ]
    }
   ],
   "source": [
    "correct = 0\n",
    "total = 0\n",
    "t = 0\n",
    "\n",
    "with torch.no_grad():\n",
    "    for data in testloader:\n",
    "        inputs, targets, classes = data\n",
    "        \n",
    "        outputs = baseLine(inputs)\n",
    "        \n",
    "        predictions = torch.round(torch.sigmoid(outputs))\n",
    "                \n",
    "        correct += (predictions.squeeze() == targets.squeeze()).sum()\n",
    "        total += predictions.size(0)\n",
    "\n",
    "                \n",
    "acc = correct / total\n",
    "print(f'Accuracy: {acc}')"
   ]
  },
  {
   "cell_type": "code",
   "execution_count": null,
   "id": "0bff09e8",
   "metadata": {},
   "outputs": [],
   "source": []
  },
  {
   "cell_type": "code",
   "execution_count": null,
   "id": "75927012",
   "metadata": {},
   "outputs": [],
   "source": []
  }
 ],
 "metadata": {
  "kernelspec": {
   "display_name": "Python 3 (ipykernel)",
   "language": "python",
   "name": "python3"
  },
  "language_info": {
   "codemirror_mode": {
    "name": "ipython",
    "version": 3
   },
   "file_extension": ".py",
   "mimetype": "text/x-python",
   "name": "python",
   "nbconvert_exporter": "python",
   "pygments_lexer": "ipython3",
   "version": "3.9.16"
  }
 },
 "nbformat": 4,
 "nbformat_minor": 5
}
