{
 "cells": [
  {
   "cell_type": "code",
   "execution_count": 265,
   "id": "f2a7359a",
   "metadata": {},
   "outputs": [],
   "source": [
    "import torch\n",
    "import torch.nn as nn\n",
    "import torch.nn.functional as F\n",
    "import torch.optim as optim"
   ]
  },
  {
   "cell_type": "code",
   "execution_count": 266,
   "id": "69a3b1ae",
   "metadata": {},
   "outputs": [],
   "source": [
    "device = torch.device('mps') if torch.backends.mps.is_available() else torch.device('cpu') "
   ]
  },
  {
   "cell_type": "code",
   "execution_count": 267,
   "id": "a1177e05",
   "metadata": {},
   "outputs": [],
   "source": [
    "class BaseLine(nn.Module):\n",
    "    def __init__(self):\n",
    "        super(BaseLine, self).__init__()\n",
    "        \n",
    "        self.fc1 = nn.Linear(392, 120)\n",
    "        self.fc2 = nn.Linear(120, 84)\n",
    "        self.fc3 = nn.Linear(84, 1)\n",
    "        \n",
    "    def forward(self, x):\n",
    "        x = torch.flatten(x, start_dim=1)\n",
    "        x = F.relu(self.fc1(x))\n",
    "        x = F.relu(self.fc2(x))\n",
    "        x = self.fc3(x)\n",
    "        \n",
    "        return x"
   ]
  },
  {
   "cell_type": "code",
   "execution_count": 268,
   "id": "3c4a2a35",
   "metadata": {},
   "outputs": [],
   "source": [
    "baseLine = BaseLine()"
   ]
  },
  {
   "cell_type": "code",
   "execution_count": 269,
   "id": "48dd518f",
   "metadata": {},
   "outputs": [],
   "source": [
    "from dataloading import load_data"
   ]
  },
  {
   "cell_type": "code",
   "execution_count": 270,
   "id": "5ea01a56",
   "metadata": {},
   "outputs": [],
   "source": [
    "trainloader, testlaoder = load_data()"
   ]
  },
  {
   "cell_type": "code",
   "execution_count": 271,
   "id": "7ab659e8",
   "metadata": {},
   "outputs": [],
   "source": [
    "learning_rate = .001\n",
    "\n",
    "criterion = nn.BCEWithLogitsLoss()\n",
    "# optimizer = optim.SGD(baseline.parameters(), lr=0.001, momentum=0.9)\n",
    "optimizer = optim.Adam(baseLine.parameters(), lr=learning_rate)"
   ]
  },
  {
   "cell_type": "code",
   "execution_count": 272,
   "id": "cba9a5ef",
   "metadata": {},
   "outputs": [],
   "source": [
    "epochs = 5"
   ]
  },
  {
   "cell_type": "code",
   "execution_count": 273,
   "id": "5136eed1",
   "metadata": {},
   "outputs": [
    {
     "name": "stdout",
     "output_type": "stream",
     "text": [
      "epoch: 0, loss: 1.0049877166748047\n",
      "epoch: 1, loss: 0.3790791630744934\n",
      "epoch: 2, loss: 0.22739392518997192\n",
      "epoch: 3, loss: 0.14344659447669983\n",
      "epoch: 4, loss: 0.09088356047868729\n"
     ]
    }
   ],
   "source": [
    "losses = []\n",
    "\n",
    "for epoch in range(epochs):\n",
    "    running_loss = 0.0\n",
    "    epoch_losses = []\n",
    "    \n",
    "    for i, data in enumerate(trainloader, 0):\n",
    "        inputs, target, classes = data\n",
    "        \n",
    "        optimizer.zero_grad()\n",
    "        \n",
    "        outputs = baseLine(inputs)\n",
    "        outputs = outputs.squeeze()\n",
    "        \n",
    "        loss = criterion(outputs, target.float())\n",
    "        loss.backward()\n",
    "        optimizer.step()\n",
    "        \n",
    "        running_loss += loss.item()\n",
    "        \n",
    "        epoch_losses.append(loss.item())\n",
    "    \n",
    "    epoch_loss = torch.mean(torch.tensor(epoch_losses))\n",
    "    print(f'epoch: {epoch}, loss: {epoch_loss}')\n",
    "    losses.append(epoch_loss)  "
   ]
  },
  {
   "cell_type": "code",
   "execution_count": 274,
   "id": "2df17d78",
   "metadata": {},
   "outputs": [
    {
     "name": "stdout",
     "output_type": "stream",
     "text": [
      "Accuracy: 0.7730000019073486\n"
     ]
    }
   ],
   "source": [
    "correct = 0\n",
    "total = 0\n",
    "\n",
    "with torch.no_grad():\n",
    "    for data in testloader:\n",
    "        inputs, targets, classes = data\n",
    "        \n",
    "        outputs = baseLine(inputs)\n",
    "        \n",
    "        predictions = torch.round(torch.sigmoid(outputs))\n",
    "                \n",
    "        correct += (predictions.squeeze() == targets.squeeze()).sum()\n",
    "        total += predictions.size(0)\n",
    "\n",
    "                \n",
    "acc = correct / total\n",
    "print(f'Accuracy: {acc}')"
   ]
  },
  {
   "cell_type": "code",
   "execution_count": null,
   "id": "a5e2d691",
   "metadata": {},
   "outputs": [],
   "source": []
  },
  {
   "cell_type": "code",
   "execution_count": null,
   "id": "a9f18d9f",
   "metadata": {},
   "outputs": [],
   "source": []
  }
 ],
 "metadata": {
  "kernelspec": {
   "display_name": "Python 3 (ipykernel)",
   "language": "python",
   "name": "python3"
  },
  "language_info": {
   "codemirror_mode": {
    "name": "ipython",
    "version": 3
   },
   "file_extension": ".py",
   "mimetype": "text/x-python",
   "name": "python",
   "nbconvert_exporter": "python",
   "pygments_lexer": "ipython3",
   "version": "3.9.16"
  }
 },
 "nbformat": 4,
 "nbformat_minor": 5
}
