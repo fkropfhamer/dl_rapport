{
 "cells": [
  {
   "cell_type": "code",
   "execution_count": 34,
   "id": "d21a328c",
   "metadata": {},
   "outputs": [],
   "source": [
    "import torch\n",
    "import torch.nn as nn\n",
    "import torch.nn.functional as F\n",
    "import torch.optim as optim"
   ]
  },
  {
   "cell_type": "code",
   "execution_count": 35,
   "id": "79f5efbf",
   "metadata": {},
   "outputs": [],
   "source": [
    "class Shared(nn.Module):\n",
    "    def __init__(self):\n",
    "        super().__init__()\n",
    "        \n",
    "        self.conv1 = nn.Conv2d(1, 32, 3)\n",
    "        self.pool = nn.MaxPool2d(2, 2)\n",
    "        self.conv2 = nn.Conv2d(32, 64, 3)\n",
    "        self.fc1 = nn.Linear(256, 120)\n",
    "        self.fc2 = nn.Linear(120, 84)\n",
    "        self.fc3 = nn.Linear(168, 1)\n",
    "        \n",
    "    def conv_forward(self, x):\n",
    "        x = self.pool(F.relu(self.conv1(x)))\n",
    "        x = self.pool(F.relu(self.conv2(x)))\n",
    "        x = torch.flatten(x, 1)\n",
    "        x = F.relu(self.fc1(x))\n",
    "        x = F.relu(self.fc2(x))\n",
    "        \n",
    "        return x\n",
    "        \n",
    "    def forward(self, x):\n",
    "        x1 = x[:,:1,:]\n",
    "        x2 = x[:,1:2,:]\n",
    "        \n",
    "        x1 = self.conv_forward(x1)\n",
    "        x2 = self.conv_forward(x2)\n",
    "        \n",
    "        x = self.fc3(torch.cat((x1, x2), dim=1))\n",
    "        \n",
    "        return x"
   ]
  },
  {
   "cell_type": "code",
   "execution_count": 36,
   "id": "788701fc",
   "metadata": {},
   "outputs": [],
   "source": [
    "shared = Shared()"
   ]
  },
  {
   "cell_type": "code",
   "execution_count": 37,
   "id": "988e6831",
   "metadata": {},
   "outputs": [],
   "source": [
    "from dataloading import load_data"
   ]
  },
  {
   "cell_type": "code",
   "execution_count": 38,
   "id": "9b0cf382",
   "metadata": {},
   "outputs": [],
   "source": [
    "trainloader, testloader = load_data()"
   ]
  },
  {
   "cell_type": "code",
   "execution_count": 39,
   "id": "584f709e",
   "metadata": {},
   "outputs": [],
   "source": [
    "learning_rate = .001\n",
    "\n",
    "criterion = nn.BCEWithLogitsLoss()\n",
    "# optimizer = optim.SGD(baseline.parameters(), lr=0.001, momentum=0.9)\n",
    "optimizer = optim.Adam(shared.parameters(), lr=learning_rate)"
   ]
  },
  {
   "cell_type": "code",
   "execution_count": 40,
   "id": "fd069d8d",
   "metadata": {},
   "outputs": [
    {
     "name": "stdout",
     "output_type": "stream",
     "text": [
      "epoch: 0, loss: 0.6707589626312256\n",
      "epoch: 1, loss: 0.3997456431388855\n",
      "epoch: 2, loss: 0.31657156348228455\n",
      "epoch: 3, loss: 0.27291736006736755\n",
      "epoch: 4, loss: 0.259965181350708\n"
     ]
    }
   ],
   "source": [
    "epochs = 5\n",
    "\n",
    "losses = []\n",
    "\n",
    "for epoch in range(epochs):\n",
    "    running_loss = 0.0\n",
    "    epoch_losses = []\n",
    "    \n",
    "    for i, data in enumerate(trainloader, 0):\n",
    "        inputs, target, classes = data\n",
    "        \n",
    "        optimizer.zero_grad()\n",
    "        \n",
    "        outputs = shared(inputs)\n",
    "        outputs = outputs.squeeze()\n",
    "        \n",
    "        loss = criterion(outputs, target.float())\n",
    "        loss.backward()\n",
    "        optimizer.step()\n",
    "        \n",
    "        running_loss += loss.item()\n",
    "        \n",
    "        epoch_losses.append(loss.item())\n",
    "    \n",
    "    epoch_loss = torch.mean(torch.tensor(epoch_losses))\n",
    "    print(f'epoch: {epoch}, loss: {epoch_loss}')\n",
    "    losses.append(epoch_loss)  "
   ]
  },
  {
   "cell_type": "code",
   "execution_count": 41,
   "id": "d8158778",
   "metadata": {},
   "outputs": [
    {
     "name": "stdout",
     "output_type": "stream",
     "text": [
      "Accuracy: 0.8429999947547913\n"
     ]
    }
   ],
   "source": [
    "from evaluate import evaluate_model\n",
    "\n",
    "evaluate_model(shared, testloader)"
   ]
  }
 ],
 "metadata": {
  "kernelspec": {
   "display_name": "Python 3 (ipykernel)",
   "language": "python",
   "name": "python3"
  },
  "language_info": {
   "codemirror_mode": {
    "name": "ipython",
    "version": 3
   },
   "file_extension": ".py",
   "mimetype": "text/x-python",
   "name": "python",
   "nbconvert_exporter": "python",
   "pygments_lexer": "ipython3",
   "version": "3.9.16"
  }
 },
 "nbformat": 4,
 "nbformat_minor": 5
}
