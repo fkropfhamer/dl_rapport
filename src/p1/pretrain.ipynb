{
 "cells": [
  {
   "cell_type": "code",
   "execution_count": 59,
   "id": "34969397",
   "metadata": {},
   "outputs": [],
   "source": [
    "import torch\n",
    "import torch.nn as nn\n",
    "import torch.nn.functional as F\n",
    "import torch.optim as optim"
   ]
  },
  {
   "cell_type": "code",
   "execution_count": 60,
   "id": "bb5cdf84",
   "metadata": {},
   "outputs": [],
   "source": [
    "class Pretrain(nn.Module):\n",
    "    def __init__(self):\n",
    "        super().__init__()\n",
    "        \n",
    "        self.conv1 = nn.Conv2d(1, 32, 3)\n",
    "        self.pool = nn.MaxPool2d(2, 2)\n",
    "        self.conv2 = nn.Conv2d(32, 64, 3)\n",
    "        self.fc1 = nn.Linear(256, 120)\n",
    "        self.fc2 = nn.Linear(120, 10)\n",
    "        \n",
    "    def forward(self, x):\n",
    "        x = self.pool(F.relu(self.conv1(x)))\n",
    "        x = self.pool(F.relu(self.conv2(x)))\n",
    "        x = torch.flatten(x, 1)\n",
    "        x = F.relu(self.fc1(x))\n",
    "        x = self.fc2(x)\n",
    "\n",
    "        return x"
   ]
  },
  {
   "cell_type": "code",
   "execution_count": 61,
   "id": "3a9b18de",
   "metadata": {},
   "outputs": [],
   "source": [
    "class FF(nn.Module):\n",
    "    def __init__(self, model):\n",
    "        super().__init__()\n",
    "        \n",
    "        self.cnn = model\n",
    "        \n",
    "        self.fc = nn.Linear(20, 1)\n",
    "        \n",
    "    def forward(self, x):\n",
    "        x1 = x[:,:1,:]\n",
    "        x2 = x[:,1:2,:]\n",
    "        \n",
    "\n",
    "        x1 = self.cnn(x1)\n",
    "        x2 = self.cnn(x2)\n",
    "            \n",
    "        x = self.fc(torch.cat((x1, x2), dim=1))\n",
    "        \n",
    "        return x"
   ]
  },
  {
   "cell_type": "code",
   "execution_count": 62,
   "id": "3464e47d",
   "metadata": {},
   "outputs": [],
   "source": [
    "model = Pretrain()"
   ]
  },
  {
   "cell_type": "code",
   "execution_count": 63,
   "id": "39caa4b7",
   "metadata": {},
   "outputs": [],
   "source": [
    "from dataloading import load_data"
   ]
  },
  {
   "cell_type": "code",
   "execution_count": 64,
   "id": "d1cc8ac9",
   "metadata": {},
   "outputs": [],
   "source": [
    "trainloader, testloader = load_data()"
   ]
  },
  {
   "cell_type": "code",
   "execution_count": 65,
   "id": "8169519a",
   "metadata": {},
   "outputs": [],
   "source": [
    "learning_rate = .001\n",
    "\n",
    "criterion = nn.CrossEntropyLoss()\n",
    "# optimizer = optim.SGD(baseline.parameters(), lr=0.001, momentum=0.9)\n",
    "optimizer = optim.Adam(model.parameters(), lr=learning_rate)"
   ]
  },
  {
   "cell_type": "code",
   "execution_count": 66,
   "id": "934eacdb",
   "metadata": {},
   "outputs": [],
   "source": [
    "epochs = 10"
   ]
  },
  {
   "cell_type": "code",
   "execution_count": 67,
   "id": "9cad73ba",
   "metadata": {},
   "outputs": [
    {
     "name": "stdout",
     "output_type": "stream",
     "text": [
      "epoch: 0, loss: 4.313869953155518\n",
      "epoch: 1, loss: 0.6634032130241394\n",
      "epoch: 2, loss: 0.3630056083202362\n",
      "epoch: 3, loss: 0.2072702944278717\n",
      "epoch: 4, loss: 0.14497286081314087\n",
      "epoch: 5, loss: 0.09998053312301636\n",
      "epoch: 6, loss: 0.058640483766794205\n",
      "epoch: 7, loss: 0.03776092454791069\n",
      "epoch: 8, loss: 0.018457647413015366\n",
      "epoch: 9, loss: 0.011411981657147408\n"
     ]
    }
   ],
   "source": [
    "losses = []\n",
    "\n",
    "for epoch in range(epochs):\n",
    "    running_loss = 0.0\n",
    "    epoch_losses = []\n",
    "    \n",
    "    for i, data in enumerate(trainloader, 0):\n",
    "        inputs, target, classes = data\n",
    "        \n",
    "        x1 = inputs[:,:1,:]\n",
    "        x2 = inputs[:,1:2,:]\n",
    "        \n",
    "        optimizer.zero_grad()\n",
    "        \n",
    "        outputs = model(x1)\n",
    "        outputs = outputs\n",
    "        \n",
    "        loss = criterion(outputs, classes[:,0])\n",
    "        loss.backward()\n",
    "        optimizer.step()\n",
    "        \n",
    "        running_loss += loss.item()\n",
    "        \n",
    "        epoch_losses.append(loss.item())\n",
    "    \n",
    "    epoch_loss = torch.mean(torch.tensor(epoch_losses))\n",
    "    print(f'epoch: {epoch}, loss: {epoch_loss}')\n",
    "    losses.append(epoch_loss)  "
   ]
  },
  {
   "cell_type": "code",
   "execution_count": 68,
   "id": "97ed59ef",
   "metadata": {},
   "outputs": [],
   "source": [
    "ff = FF(model)"
   ]
  },
  {
   "cell_type": "code",
   "execution_count": 69,
   "id": "3b5590c9",
   "metadata": {},
   "outputs": [],
   "source": [
    "learning_rate = .001\n",
    "\n",
    "criterion = nn.BCEWithLogitsLoss()\n",
    "# optimizer = optim.SGD(baseline.parameters(), lr=0.001, momentum=0.9)\n",
    "optimizer = optim.Adam(ff.parameters(), lr=learning_rate)"
   ]
  },
  {
   "cell_type": "code",
   "execution_count": 70,
   "id": "49f9f2f7",
   "metadata": {},
   "outputs": [
    {
     "name": "stdout",
     "output_type": "stream",
     "text": [
      "epoch: 0, loss: 0.8037532567977905\n",
      "epoch: 1, loss: 0.6821638941764832\n",
      "epoch: 2, loss: 0.5796943306922913\n",
      "epoch: 3, loss: 0.5355087518692017\n",
      "epoch: 4, loss: 0.49673691391944885\n",
      "epoch: 5, loss: 0.4737986922264099\n",
      "epoch: 6, loss: 0.4638371169567108\n",
      "epoch: 7, loss: 0.4517482817173004\n",
      "epoch: 8, loss: 0.44714680314064026\n",
      "epoch: 9, loss: 0.43703028559684753\n"
     ]
    }
   ],
   "source": [
    "losses = []\n",
    "\n",
    "for epoch in range(epochs):\n",
    "    running_loss = 0.0\n",
    "    epoch_losses = []\n",
    "    \n",
    "    for i, data in enumerate(trainloader, 0):\n",
    "        inputs, target, classes = data\n",
    "        \n",
    "        optimizer.zero_grad()\n",
    "        \n",
    "        outputs = ff(inputs)\n",
    "        outputs = outputs.squeeze()\n",
    "        \n",
    "        loss = criterion(outputs, target.float())\n",
    "        loss.backward()\n",
    "        optimizer.step()\n",
    "        \n",
    "        running_loss += loss.item()\n",
    "        \n",
    "        epoch_losses.append(loss.item())\n",
    "    \n",
    "    epoch_loss = torch.mean(torch.tensor(epoch_losses))\n",
    "    print(f'epoch: {epoch}, loss: {epoch_loss}')\n",
    "    losses.append(epoch_loss)  "
   ]
  },
  {
   "cell_type": "code",
   "execution_count": 72,
   "id": "e81da486",
   "metadata": {},
   "outputs": [
    {
     "name": "stdout",
     "output_type": "stream",
     "text": [
      "Accuracy: 0.7950000166893005\n"
     ]
    }
   ],
   "source": [
    "from evaluate import evaluate_model\n",
    "\n",
    "evaluate_model(ff, testloader)"
   ]
  }
 ],
 "metadata": {
  "kernelspec": {
   "display_name": "Python 3 (ipykernel)",
   "language": "python",
   "name": "python3"
  },
  "language_info": {
   "codemirror_mode": {
    "name": "ipython",
    "version": 3
   },
   "file_extension": ".py",
   "mimetype": "text/x-python",
   "name": "python",
   "nbconvert_exporter": "python",
   "pygments_lexer": "ipython3",
   "version": "3.9.16"
  }
 },
 "nbformat": 4,
 "nbformat_minor": 5
}
