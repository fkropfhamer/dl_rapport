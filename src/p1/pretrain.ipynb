{
 "cells": [
  {
   "cell_type": "code",
   "execution_count": 73,
   "id": "34969397",
   "metadata": {},
   "outputs": [],
   "source": [
    "import torch\n",
    "import torch.nn as nn\n",
    "import torch.nn.functional as F\n",
    "import torch.optim as optim"
   ]
  },
  {
   "cell_type": "code",
   "execution_count": 74,
   "id": "bb5cdf84",
   "metadata": {},
   "outputs": [],
   "source": [
    "class Pretrain(nn.Module):\n",
    "    def __init__(self):\n",
    "        super().__init__()\n",
    "        \n",
    "        self.conv1 = nn.Conv2d(1, 32, 3)\n",
    "        self.pool = nn.MaxPool2d(2, 2)\n",
    "        self.conv2 = nn.Conv2d(32, 64, 3)\n",
    "        self.fc1 = nn.Linear(256, 120)\n",
    "        self.fc2 = nn.Linear(120, 10)\n",
    "        \n",
    "    def forward(self, x):\n",
    "        x = self.pool(F.relu(self.conv1(x)))\n",
    "        x = self.pool(F.relu(self.conv2(x)))\n",
    "        x = torch.flatten(x, 1)\n",
    "        x = F.relu(self.fc1(x))\n",
    "        x = self.fc2(x)\n",
    "\n",
    "        return x"
   ]
  },
  {
   "cell_type": "code",
   "execution_count": 75,
   "id": "1efc2797",
   "metadata": {},
   "outputs": [],
   "source": [
    "class FF(nn.Module):\n",
    "    def __init__(self, model):\n",
    "        super().__init__()\n",
    "        \n",
    "        self.cnn = model\n",
    "        \n",
    "        self.fc = nn.Linear(20, 1)\n",
    "        \n",
    "    def forward(self, x):\n",
    "        x1 = x[:,:1,:]\n",
    "        x2 = x[:,1:2,:]\n",
    "        \n",
    "\n",
    "        x1 = self.cnn(x1)\n",
    "        x2 = self.cnn(x2)\n",
    "            \n",
    "        x = self.fc(torch.cat((x1, x2), dim=1))\n",
    "        \n",
    "        return x"
   ]
  },
  {
   "cell_type": "code",
   "execution_count": 76,
   "id": "3464e47d",
   "metadata": {},
   "outputs": [],
   "source": [
    "model = Pretrain()"
   ]
  },
  {
   "cell_type": "code",
   "execution_count": 77,
   "id": "39caa4b7",
   "metadata": {},
   "outputs": [],
   "source": [
    "from dataloading import load_data"
   ]
  },
  {
   "cell_type": "code",
   "execution_count": 78,
   "id": "d1cc8ac9",
   "metadata": {},
   "outputs": [],
   "source": [
    "trainloader, testloader = load_data()"
   ]
  },
  {
   "cell_type": "code",
   "execution_count": 79,
   "id": "8169519a",
   "metadata": {},
   "outputs": [],
   "source": [
    "learning_rate = .001\n",
    "\n",
    "criterion = nn.CrossEntropyLoss()\n",
    "# optimizer = optim.SGD(baseline.parameters(), lr=0.001, momentum=0.9)\n",
    "optimizer = optim.Adam(model.parameters(), lr=learning_rate)"
   ]
  },
  {
   "cell_type": "code",
   "execution_count": 80,
   "id": "934eacdb",
   "metadata": {},
   "outputs": [],
   "source": [
    "epochs = 10"
   ]
  },
  {
   "cell_type": "code",
   "execution_count": 81,
   "id": "9cad73ba",
   "metadata": {},
   "outputs": [
    {
     "name": "stdout",
     "output_type": "stream",
     "text": [
      "epoch: 0, loss: 3.686640501022339\n",
      "epoch: 1, loss: 0.5478036403656006\n",
      "epoch: 2, loss: 0.2662648856639862\n",
      "epoch: 3, loss: 0.1879831999540329\n",
      "epoch: 4, loss: 0.11312808841466904\n",
      "epoch: 5, loss: 0.06492424011230469\n",
      "epoch: 6, loss: 0.0596708245575428\n",
      "epoch: 7, loss: 0.03277947008609772\n",
      "epoch: 8, loss: 0.016993051394820213\n",
      "epoch: 9, loss: 0.009113973006606102\n"
     ]
    }
   ],
   "source": [
    "losses = []\n",
    "\n",
    "for epoch in range(epochs):\n",
    "    running_loss = 0.0\n",
    "    epoch_losses = []\n",
    "    \n",
    "    for i, data in enumerate(trainloader, 0):\n",
    "        inputs, target, classes = data\n",
    "        \n",
    "        x1 = inputs[:,:1,:]\n",
    "        x2 = inputs[:,1:2,:]\n",
    "        \n",
    "        optimizer.zero_grad()\n",
    "        \n",
    "        outputs = model(x1)\n",
    "        outputs = outputs\n",
    "        \n",
    "        loss = criterion(outputs, classes[:,0])\n",
    "        loss.backward()\n",
    "        optimizer.step()\n",
    "        \n",
    "        running_loss += loss.item()\n",
    "        \n",
    "        epoch_losses.append(loss.item())\n",
    "    \n",
    "    epoch_loss = torch.mean(torch.tensor(epoch_losses))\n",
    "    print(f'epoch: {epoch}, loss: {epoch_loss}')\n",
    "    losses.append(epoch_loss)  "
   ]
  },
  {
   "cell_type": "code",
   "execution_count": 82,
   "id": "e02e3931",
   "metadata": {},
   "outputs": [],
   "source": [
    "ff = FF(model)"
   ]
  },
  {
   "cell_type": "code",
   "execution_count": 83,
   "id": "7108985a",
   "metadata": {},
   "outputs": [],
   "source": [
    "learning_rate = .001\n",
    "\n",
    "criterion = nn.BCEWithLogitsLoss()\n",
    "# optimizer = optim.SGD(baseline.parameters(), lr=0.001, momentum=0.9)\n",
    "optimizer = optim.Adam(ff.parameters(), lr=learning_rate)"
   ]
  },
  {
   "cell_type": "code",
   "execution_count": 84,
   "id": "e941ee68",
   "metadata": {},
   "outputs": [
    {
     "name": "stdout",
     "output_type": "stream",
     "text": [
      "epoch: 0, loss: 0.5458245277404785\n",
      "epoch: 1, loss: 0.3479655683040619\n",
      "epoch: 2, loss: 0.25985392928123474\n",
      "epoch: 3, loss: 0.18957576155662537\n",
      "epoch: 4, loss: 0.15485483407974243\n",
      "epoch: 5, loss: 0.12116918712854385\n",
      "epoch: 6, loss: 0.11432626843452454\n",
      "epoch: 7, loss: 0.12972129881381989\n",
      "epoch: 8, loss: 0.07614415138959885\n",
      "epoch: 9, loss: 0.04117998480796814\n"
     ]
    }
   ],
   "source": [
    "losses = []\n",
    "\n",
    "for epoch in range(epochs):\n",
    "    running_loss = 0.0\n",
    "    epoch_losses = []\n",
    "    \n",
    "    for i, data in enumerate(trainloader, 0):\n",
    "        inputs, target, classes = data\n",
    "        \n",
    "        optimizer.zero_grad()\n",
    "        \n",
    "        outputs = ff(inputs)\n",
    "        outputs = outputs.squeeze()\n",
    "        \n",
    "        loss = criterion(outputs, target.float())\n",
    "        loss.backward()\n",
    "        optimizer.step()\n",
    "        \n",
    "        running_loss += loss.item()\n",
    "        \n",
    "        epoch_losses.append(loss.item())\n",
    "    \n",
    "    epoch_loss = torch.mean(torch.tensor(epoch_losses))\n",
    "    print(f'epoch: {epoch}, loss: {epoch_loss}')\n",
    "    losses.append(epoch_loss)  "
   ]
  },
  {
   "cell_type": "code",
   "execution_count": 85,
   "id": "e81da486",
   "metadata": {},
   "outputs": [
    {
     "name": "stdout",
     "output_type": "stream",
     "text": [
      "Accuracy: 0.8619999885559082\n"
     ]
    }
   ],
   "source": [
    "from evaluate import evaluate_model\n",
    "\n",
    "evaluate_model(ff, testloader)"
   ]
  }
 ],
 "metadata": {
  "kernelspec": {
   "display_name": "Python 3 (ipykernel)",
   "language": "python",
   "name": "python3"
  },
  "language_info": {
   "codemirror_mode": {
    "name": "ipython",
    "version": 3
   },
   "file_extension": ".py",
   "mimetype": "text/x-python",
   "name": "python",
   "nbconvert_exporter": "python",
   "pygments_lexer": "ipython3",
   "version": "3.9.16"
  }
 },
 "nbformat": 4,
 "nbformat_minor": 5
}
