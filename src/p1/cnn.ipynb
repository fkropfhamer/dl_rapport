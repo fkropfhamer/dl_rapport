{
 "cells": [
  {
   "cell_type": "code",
   "execution_count": 89,
   "id": "5bf0a506",
   "metadata": {},
   "outputs": [],
   "source": [
    "import torch\n",
    "import torch.nn as nn\n",
    "import torch.nn.functional as F\n",
    "import torch.optim as optim"
   ]
  },
  {
   "cell_type": "code",
   "execution_count": 90,
   "id": "6de24948",
   "metadata": {},
   "outputs": [],
   "source": [
    "class CNN(nn.Module):\n",
    "    def __init__(self):\n",
    "        super().__init__()\n",
    "        \n",
    "        self.conv1 = nn.Conv2d(2, 32, 3)\n",
    "        self.pool = nn.MaxPool2d(2, 2)\n",
    "        self.conv2 = nn.Conv2d(32, 64, 3)\n",
    "        self.fc1 = nn.Linear(256, 120)\n",
    "        self.fc2 = nn.Linear(120, 84)\n",
    "        self.fc3 = nn.Linear(84, 1)\n",
    "        \n",
    "    def forward(self, x):\n",
    "        x = self.pool(F.relu(self.conv1(x)))\n",
    "        x = self.pool(F.relu(self.conv2(x)))\n",
    "        x = torch.flatten(x, 1) # flatten all dimensions except batch\n",
    "        x = F.relu(self.fc1(x))\n",
    "        x = F.relu(self.fc2(x))\n",
    "        x = self.fc3(x)\n",
    "        \n",
    "        return x"
   ]
  },
  {
   "cell_type": "code",
   "execution_count": 91,
   "id": "142b1c51",
   "metadata": {},
   "outputs": [],
   "source": [
    "cnn = CNN()"
   ]
  },
  {
   "cell_type": "code",
   "execution_count": 92,
   "id": "af9756c4",
   "metadata": {},
   "outputs": [],
   "source": [
    "from dataloading import load_data"
   ]
  },
  {
   "cell_type": "code",
   "execution_count": 93,
   "id": "38475d48",
   "metadata": {},
   "outputs": [],
   "source": [
    "trainloader, testloader = load_data()"
   ]
  },
  {
   "cell_type": "code",
   "execution_count": 94,
   "id": "99e973ca",
   "metadata": {},
   "outputs": [],
   "source": [
    "learning_rate = .001\n",
    "\n",
    "criterion = nn.BCEWithLogitsLoss()\n",
    "# optimizer = optim.SGD(baseline.parameters(), lr=0.001, momentum=0.9)\n",
    "optimizer = optim.Adam(cnn.parameters(), lr=learning_rate)"
   ]
  },
  {
   "cell_type": "code",
   "execution_count": 95,
   "id": "4fed5079",
   "metadata": {},
   "outputs": [],
   "source": [
    "epochs = 5"
   ]
  },
  {
   "cell_type": "code",
   "execution_count": null,
   "id": "58476cab",
   "metadata": {},
   "outputs": [
    {
     "name": "stdout",
     "output_type": "stream",
     "text": [
      "epoch: 0, loss: 0.8917472958564758\n",
      "epoch: 1, loss: 0.5348098278045654\n"
     ]
    }
   ],
   "source": [
    "losses = []\n",
    "\n",
    "for epoch in range(epochs):\n",
    "    running_loss = 0.0\n",
    "    epoch_losses = []\n",
    "    \n",
    "    for i, data in enumerate(trainloader, 0):\n",
    "        inputs, target, classes = data\n",
    "        \n",
    "        optimizer.zero_grad()\n",
    "        \n",
    "        outputs = cnn(inputs)\n",
    "        outputs = outputs.squeeze()\n",
    "        \n",
    "        loss = criterion(outputs, target.float())\n",
    "        loss.backward()\n",
    "        optimizer.step()\n",
    "        \n",
    "        running_loss += loss.item()\n",
    "        \n",
    "        epoch_losses.append(loss.item())\n",
    "    \n",
    "    epoch_loss = torch.mean(torch.tensor(epoch_losses))\n",
    "    print(f'epoch: {epoch}, loss: {epoch_loss}')\n",
    "    losses.append(epoch_loss)  "
   ]
  },
  {
   "cell_type": "code",
   "execution_count": null,
   "id": "09dd94a5",
   "metadata": {},
   "outputs": [],
   "source": [
    "from evaluate import evaluate_model\n",
    "\n",
    "evaluate_model(cnn, testloader)"
   ]
  }
 ],
 "metadata": {
  "kernelspec": {
   "display_name": "Python 3 (ipykernel)",
   "language": "python",
   "name": "python3"
  },
  "language_info": {
   "codemirror_mode": {
    "name": "ipython",
    "version": 3
   },
   "file_extension": ".py",
   "mimetype": "text/x-python",
   "name": "python",
   "nbconvert_exporter": "python",
   "pygments_lexer": "ipython3",
   "version": "3.9.16"
  }
 },
 "nbformat": 4,
 "nbformat_minor": 5
}
